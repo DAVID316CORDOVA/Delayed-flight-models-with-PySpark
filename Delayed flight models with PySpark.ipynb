{
 "cells": [
  {
   "cell_type": "code",
   "execution_count": 37,
   "id": "3e6a907a",
   "metadata": {},
   "outputs": [],
   "source": [
    "###IMPORTING THE LIBRARIES\n",
    "#Session\n",
    "from pyspark.sql import SparkSession\n",
    "\n",
    "##Functions for creating the structure\n",
    "from pyspark.sql.types import StructType, StructField, StringType, IntegerType, DoubleType\n",
    "\n",
    "##Functions for Data engineering\n",
    "from pyspark.sql.functions import col,sum,avg,round,monotonically_increasing_id,lit\n",
    "\n",
    "##Functions for the model\n",
    "from pyspark.ml.feature import StringIndexer,OneHotEncoder,VectorAssembler,Bucketizer\n",
    "from pyspark.ml import Pipeline\n",
    "\n",
    "###Functions for NLP\n",
    "from pyspark.ml.feature import Tokenizer, StopWordsRemover, HashingTF, IDF\n",
    "\n",
    "##Importing the Machine learning models\n",
    "from pyspark.ml.regression import GBTRegressor\n",
    "\n",
    "##Importing the evaluators\n",
    "from pyspark.ml.evaluation import RegressionEvaluator\n",
    "\n",
    "##Grid and cross validator\n",
    "from pyspark.ml.tuning import TrainValidationSplit, ParamGridBuilder,CrossValidator\n",
    "\n",
    "#CREATING THE SESSION\n",
    "sesion=SparkSession.builder.appName(\"sesion\").getOrCreate()"
   ]
  },
  {
   "cell_type": "code",
   "execution_count": 15,
   "id": "f4724f28",
   "metadata": {},
   "outputs": [
    {
     "name": "stdout",
     "output_type": "stream",
     "text": [
      "The data contain 50000 records.\n",
      "+---+---+---+-------+------+---+----+------+--------+-----+\n",
      "|mon|dom|dow|carrier|flight|org|mile|depart|duration|delay|\n",
      "+---+---+---+-------+------+---+----+------+--------+-----+\n",
      "| 11| 20|  6|     US|    19|JFK|2153|  9.48|     351| NULL|\n",
      "|  0| 22|  2|     UA|  1107|ORD| 316| 16.33|      82|   30|\n",
      "|  2| 20|  4|     UA|   226|SFO| 337|  6.17|      82|   -8|\n",
      "|  9| 13|  1|     AA|   419|ORD|1236| 10.33|     195|   -5|\n",
      "|  4|  2|  5|     AA|   325|ORD| 258|  8.92|      65| NULL|\n",
      "+---+---+---+-------+------+---+----+------+--------+-----+\n",
      "only showing top 5 rows\n",
      "\n",
      "[('mon', 'int'), ('dom', 'int'), ('dow', 'int'), ('carrier', 'string'), ('flight', 'int'), ('org', 'string'), ('mile', 'int'), ('depart', 'double'), ('duration', 'int'), ('delay', 'int')]\n"
     ]
    }
   ],
   "source": [
    "# Read data from CSV file\n",
    "flights = sesion.read.csv('flights.csv',\n",
    "                         sep=',',\n",
    "                         header=True,\n",
    "                         inferSchema=True,\n",
    "                         nullValue='NA')\n",
    "\n",
    "# Get number of records\n",
    "print(\"The data contain %d records.\" % flights.count())\n",
    "\n",
    "# View the first five records\n",
    "flights.show(5)\n",
    "\n",
    "# Check column data types\n",
    "print(flights.dtypes)"
   ]
  },
  {
   "cell_type": "code",
   "execution_count": 16,
   "id": "7a159b79",
   "metadata": {},
   "outputs": [
    {
     "name": "stdout",
     "output_type": "stream",
     "text": [
      "+--------+---------------+\n",
      "|  Column|Null_Percentage|\n",
      "+--------+---------------+\n",
      "|   delay|            6.0|\n",
      "|     mon|            0.0|\n",
      "|     dom|            0.0|\n",
      "|     dow|            0.0|\n",
      "| carrier|            0.0|\n",
      "|  flight|            0.0|\n",
      "|     org|            0.0|\n",
      "|    mile|            0.0|\n",
      "|  depart|            0.0|\n",
      "|duration|            0.0|\n",
      "+--------+---------------+\n",
      "\n"
     ]
    }
   ],
   "source": [
    "##FINDING THE % OF NULL VALUES\n",
    "from pyspark.sql import functions as F\n",
    "\n",
    "df=flights\n",
    "\n",
    "# Calculating number of rows\n",
    "total_rows = df.count()\n",
    "\n",
    "# Creating a list to calculate the percentage of null values\n",
    "null_percentage_expr = [\n",
    "    round((F.sum(F.col(c).isNull().cast(\"int\")) / total_rows * 100), 1).alias(c) \n",
    "    for c in df.columns\n",
    "]\n",
    "\n",
    "# Applying expression to gert the null values\n",
    "null_percentages_df = df.agg(*null_percentage_expr)\n",
    "\n",
    "# Converting into a dataframe of 02 columns\n",
    "null_percentages = null_percentages_df.select(F.explode(F.array([\n",
    "    F.struct(F.lit(c).alias(\"Column\"), F.col(c).alias(\"Null_Percentage\")) \n",
    "    for c in df.columns\n",
    "]))).select(\"col.*\")\n",
    "\n",
    "# Ordenin in descending order by the percenting of null values\n",
    "null_percentages.orderBy(F.col(\"Null_Percentage\").desc()).show()"
   ]
  },
  {
   "cell_type": "code",
   "execution_count": 17,
   "id": "d7cca1a0",
   "metadata": {},
   "outputs": [
    {
     "name": "stdout",
     "output_type": "stream",
     "text": [
      "47022\n"
     ]
    }
   ],
   "source": [
    "# Remove the 'flight' column\n",
    "flights_drop_column = flights.drop('flight')\n",
    "\n",
    "# Number of records with missing 'delay' values\n",
    "flights_drop_column.filter('delay IS NULL').count()\n",
    "\n",
    "# Remove records with missing 'delay' values\n",
    "flights_valid_delay = flights_drop_column.filter('delay IS NOT NULL')\n",
    "\n",
    "# Remove records with missing values in any column and get the number of remaining rows\n",
    "flights_none_missing = flights_valid_delay.dropna()\n",
    "print(flights_none_missing.count())"
   ]
  },
  {
   "cell_type": "code",
   "execution_count": 18,
   "id": "072585b1",
   "metadata": {},
   "outputs": [
    {
     "name": "stdout",
     "output_type": "stream",
     "text": [
      "+---+---+---+-------+---+------+--------+-----+------+-----+\n",
      "|mon|dom|dow|carrier|org|depart|duration|delay|    km|label|\n",
      "+---+---+---+-------+---+------+--------+-----+------+-----+\n",
      "|  0| 22|  2|     UA|ORD| 16.33|      82|   30| 509.0|    1|\n",
      "|  2| 20|  4|     UA|SFO|  6.17|      82|   -8| 542.0|    0|\n",
      "|  9| 13|  1|     AA|ORD| 10.33|     195|   -5|1989.0|    0|\n",
      "|  5|  2|  1|     UA|SFO|  7.98|     102|    2| 885.0|    0|\n",
      "|  7|  2|  6|     AA|ORD| 10.83|     135|   54|1180.0|    1|\n",
      "+---+---+---+-------+---+------+--------+-----+------+-----+\n",
      "only showing top 5 rows\n",
      "\n"
     ]
    }
   ],
   "source": [
    "# Convert 'mile' to 'km' and drop 'mile' column (1 mile is equivalent to 1.60934 km)\n",
    "flights_km = flights_valid_delay.withColumn('km', round(flights.mile * 1.60934, 0)) \\\n",
    "                    .drop('mile')\n",
    "\n",
    "# Create 'label' column indicating whether flight delayed (1) or not (0)\n",
    "flights_km = flights_km.withColumn('label', (flights.delay>=15).cast('integer'))\n",
    "\n",
    "# Check first five records\n",
    "flights_km.show(5)"
   ]
  },
  {
   "cell_type": "code",
   "execution_count": 19,
   "id": "3964ab0e",
   "metadata": {},
   "outputs": [
    {
     "name": "stdout",
     "output_type": "stream",
     "text": [
      "+------+-------------+\n",
      "|depart|depart_bucket|\n",
      "+------+-------------+\n",
      "| 16.33|          5.0|\n",
      "|  6.17|          2.0|\n",
      "| 10.33|          3.0|\n",
      "|  7.98|          2.0|\n",
      "| 10.83|          3.0|\n",
      "+------+-------------+\n",
      "only showing top 5 rows\n",
      "\n"
     ]
    }
   ],
   "source": [
    "# Create buckets at 3 hour intervals through the day\n",
    "buckets = Bucketizer(splits=[0,3,6,9,12,15,18,21,24], inputCol='depart',\n",
    "outputCol='depart_bucket')\n",
    "\n",
    "# Bucket the departure times\n",
    "bucketed = buckets.transform(flights_km)\n",
    "bucketed.select('depart','depart_bucket').show(5)"
   ]
  },
  {
   "cell_type": "code",
   "execution_count": 24,
   "id": "1d52390e",
   "metadata": {},
   "outputs": [
    {
     "name": "stdout",
     "output_type": "stream",
     "text": [
      "+---+---+---+-------+---+--------+-----+------+-----+-------------+\n",
      "|mon|dom|dow|carrier|org|duration|delay|    km|label|depart_bucket|\n",
      "+---+---+---+-------+---+--------+-----+------+-----+-------------+\n",
      "|  0| 22|  2|     UA|ORD|      82|   30| 509.0|    1|          5.0|\n",
      "|  2| 20|  4|     UA|SFO|      82|   -8| 542.0|    0|          2.0|\n",
      "|  9| 13|  1|     AA|ORD|     195|   -5|1989.0|    0|          3.0|\n",
      "+---+---+---+-------+---+--------+-----+------+-----+-------------+\n",
      "only showing top 3 rows\n",
      "\n"
     ]
    }
   ],
   "source": [
    "##Dropping the depart column\n",
    "bucketed=bucketed.drop(\"depart\")\n",
    "bucketed.show(3)"
   ]
  },
  {
   "cell_type": "code",
   "execution_count": 33,
   "id": "f8d9a6ab",
   "metadata": {},
   "outputs": [
    {
     "name": "stdout",
     "output_type": "stream",
     "text": [
      "+---+---+---+-------+---+--------+-----+-----+-------------+\n",
      "|mon|dom|dow|carrier|org|duration|delay|   km|depart_bucket|\n",
      "+---+---+---+-------+---+--------+-----+-----+-------------+\n",
      "|  0| 22|  2|     UA|ORD|      82|   30|509.0|          5.0|\n",
      "|  2| 20|  4|     UA|SFO|      82|   -8|542.0|          2.0|\n",
      "+---+---+---+-------+---+--------+-----+-----+-------------+\n",
      "only showing top 2 rows\n",
      "\n"
     ]
    }
   ],
   "source": [
    "#Converting depart bucket to categorical datatype\n",
    "bucketed=bucketed.withColumn(\"depart_bucket\",col(\"depart_bucket\").cast(\"string\")).drop(\"label\")\n",
    "bucketed.show(2)"
   ]
  },
  {
   "cell_type": "code",
   "execution_count": 31,
   "id": "860207bf",
   "metadata": {},
   "outputs": [
    {
     "data": {
      "text/plain": [
       "['carrier', 'org', 'depart_bucket']"
      ]
     },
     "execution_count": 31,
     "metadata": {},
     "output_type": "execute_result"
    }
   ],
   "source": [
    "categorical_columns = [col for col, dtype in bucketed.dtypes if dtype == 'string']\n",
    "categorical_columns"
   ]
  },
  {
   "cell_type": "code",
   "execution_count": 43,
   "id": "e5f07d1f",
   "metadata": {},
   "outputs": [],
   "source": [
    "##Creating a training and testing dataset\n",
    "df_train,df_test = bucketed.randomSplit([0.8, 0.2], seed=420)"
   ]
  },
  {
   "cell_type": "code",
   "execution_count": 48,
   "id": "a9553e9b",
   "metadata": {},
   "outputs": [],
   "source": [
    "##Convert categorical columns to numerical\n",
    "indexer = [StringIndexer(inputCol=col, outputCol=col+\"_index\") for col in categorical_columns]\n",
    "onehot = [OneHotEncoder(inputCol=col+\"_index\", outputCol=col+\"_encoded\") for col in categorical_columns]\n",
    "\n",
    "# Creating a feature vector\n",
    "feature_columns = ['mon','dom','dow','delay','km'] + [col+\"_encoded\" for col in categorical_columns]\n",
    "assembler = VectorAssembler(inputCols=feature_columns, outputCol=\"features\")\n",
    "\n",
    "#Creating a model\n",
    "regression = GBTRegressor(labelCol='duration')\n",
    "\n",
    "# Create a pipeline and cross-validator.\n",
    "pipeline = Pipeline(stages=indexer + onehot + [assembler, regression])\n",
    "\n",
    "# Creatin a list of params\n",
    "params = ParamGridBuilder() \\\n",
    "    .addGrid(regression.maxIter, [1, 2, 5, 10]) \\\n",
    "    .addGrid(regression.maxDepth, [5, 10, 15]) \\\n",
    "    .build()\n",
    "\n",
    "# Evaluating the model for R2, RMSE, and MAE\n",
    "evaluator_r2 = RegressionEvaluator(labelCol=\"duration\", predictionCol=\"prediction\", metricName=\"r2\")\n",
    "\n",
    "cv = CrossValidator(estimator=pipeline,\n",
    "          estimatorParamMaps=params,\n",
    "          evaluator=evaluator_r2)\n"
   ]
  },
  {
   "cell_type": "code",
   "execution_count": 49,
   "id": "b207fdb9",
   "metadata": {},
   "outputs": [
    {
     "data": {
      "text/plain": [
       "CrossValidatorModel_0b20bec58947"
      ]
     },
     "execution_count": 49,
     "metadata": {},
     "output_type": "execute_result"
    }
   ],
   "source": [
    "##Training the model\n",
    "cv=cv.fit(df_train)\n",
    "cv"
   ]
  },
  {
   "cell_type": "code",
   "execution_count": 53,
   "id": "da494d08",
   "metadata": {},
   "outputs": [
    {
     "name": "stdout",
     "output_type": "stream",
     "text": [
      "+--------+----------+\n",
      "|duration|prediction|\n",
      "+--------+----------+\n",
      "|     379|    384.27|\n",
      "|     185|    186.87|\n",
      "|      80|     74.96|\n",
      "|     120|    125.94|\n",
      "|     180|    181.92|\n",
      "|     251|    257.36|\n",
      "|     260|     264.1|\n",
      "+--------+----------+\n",
      "only showing top 7 rows\n",
      "\n",
      "R2 score on the test data: 99.44 %\n"
     ]
    }
   ],
   "source": [
    "# Obtaining the best model\n",
    "best_model = cv.bestModel\n",
    "\n",
    "# Getting the classifier\n",
    "rf_model = best_model.stages[-1] \n",
    "\n",
    "# Making predictions\n",
    "predictions = best_model.transform(df_test)\n",
    "\n",
    "# Show the comparison\n",
    "predictions=predictions.withColumn('prediction', round(col(\"prediction\"),2))\n",
    "predictions.select(\"duration\",\"prediction\").show(7)\n",
    "\n",
    "# Calculating the R2 Score\n",
    "r2_score =evaluator_r2.evaluate(predictions)\n",
    "\n",
    "print(f\"R2 score on the test data: {r2_score*100:.2f} %\")"
   ]
  }
 ],
 "metadata": {
  "kernelspec": {
   "display_name": "Python 3 (ipykernel)",
   "language": "python",
   "name": "python3"
  },
  "language_info": {
   "codemirror_mode": {
    "name": "ipython",
    "version": 3
   },
   "file_extension": ".py",
   "mimetype": "text/x-python",
   "name": "python",
   "nbconvert_exporter": "python",
   "pygments_lexer": "ipython3",
   "version": "3.9.13"
  }
 },
 "nbformat": 4,
 "nbformat_minor": 5
}
